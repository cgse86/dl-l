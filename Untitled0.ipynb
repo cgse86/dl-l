{
  "nbformat": 4,
  "nbformat_minor": 0,
  "metadata": {
    "colab": {
      "provenance": [],
      "gpuType": "T4",
      "mount_file_id": "16Xdn2v2h8x9h_MKIpqOOHgT7tOnHG5Z5",
      "authorship_tag": "ABX9TyORGZKN4g++X43iP4hpLjQU",
      "include_colab_link": true
    },
    "kernelspec": {
      "name": "python3",
      "display_name": "Python 3"
    },
    "language_info": {
      "name": "python"
    },
    "accelerator": "GPU"
  },
  "cells": [
    {
      "cell_type": "markdown",
      "metadata": {
        "id": "view-in-github",
        "colab_type": "text"
      },
      "source": [
        "<a href=\"https://colab.research.google.com/github/cgse86/dl-l/blob/main/Untitled0.ipynb\" target=\"_parent\"><img src=\"https://colab.research.google.com/assets/colab-badge.svg\" alt=\"Open In Colab\"/></a>"
      ]
    },
    {
      "cell_type": "code",
      "execution_count": 4,
      "metadata": {
        "id": "TW-z2ry2ymiN",
        "colab": {
          "base_uri": "https://localhost:8080/"
        },
        "outputId": "7d5f75c5-021f-4f6f-901e-e2fc6660396e"
      },
      "outputs": [
        {
          "output_type": "stream",
          "name": "stdout",
          "text": [
            "/content/drive/MyDrive\n"
          ]
        }
      ],
      "source": [
        "cd /content/drive/MyDrive"
      ]
    },
    {
      "cell_type": "code",
      "source": [
        "ls"
      ],
      "metadata": {
        "colab": {
          "base_uri": "https://localhost:8080/"
        },
        "id": "LJ6CeInB3mK0",
        "outputId": "a3fc89df-5b4c-4edc-94e8-06281c315d47"
      },
      "execution_count": 6,
      "outputs": [
        {
          "output_type": "stream",
          "name": "stdout",
          "text": [
            " AMZN.csv                         'final report.pdf'                  'ML Lab file_500102138.pdf'\n",
            "\u001b[0m\u001b[01;34m'Colab Notebooks'\u001b[0m/                 GarvTank_500102138_activity2.docx  'webtech lab file.pdf'\n",
            "'Copy of Roadmap Resources.gdoc'   IMG_4511.png\n",
            "'final report (1).pdf'            'Internship Certificate.pdf'\n"
          ]
        }
      ]
    },
    {
      "cell_type": "code",
      "source": [
        "import pandas as pd\n",
        "df = pd.read_csv(\"/content/drive/MyDrive/AMZN.csv\")\n",
        "print(df.head())\n",
        "print(df.describe())\n"
      ],
      "metadata": {
        "colab": {
          "base_uri": "https://localhost:8080/"
        },
        "id": "SJp8clPL3qS0",
        "outputId": "65989352-aab8-46aa-80c0-8e902fa145c7"
      },
      "execution_count": 5,
      "outputs": [
        {
          "output_type": "stream",
          "name": "stdout",
          "text": [
            "         Date      Open      High       Low     Close  Adj Close      Volume\n",
            "0  1997-05-15  0.121875  0.125000  0.096354  0.097917   0.097917  1443120000\n",
            "1  1997-05-16  0.098438  0.098958  0.085417  0.086458   0.086458   294000000\n",
            "2  1997-05-19  0.088021  0.088542  0.081250  0.085417   0.085417   122136000\n",
            "3  1997-05-20  0.086458  0.087500  0.081771  0.081771   0.081771   109344000\n",
            "4  1997-05-21  0.081771  0.082292  0.068750  0.071354   0.071354   377064000\n",
            "              Open         High          Low        Close    Adj Close  \\\n",
            "count  6735.000000  6735.000000  6735.000000  6735.000000  6735.000000   \n",
            "mean     34.955214    35.374143    34.503395    34.948651    34.948651   \n",
            "std      50.791671    51.384257    50.147592    50.771009    50.771009   \n",
            "min       0.070313     0.072396     0.065625     0.069792     0.069792   \n",
            "25%       2.051250     2.090000     2.011500     2.051500     2.051500   \n",
            "50%       7.771500     7.847500     7.669500     7.776500     7.776500   \n",
            "75%      48.002751    48.377500    47.706249    48.010250    48.010250   \n",
            "max     187.199997   188.654007   184.839493   186.570496   186.570496   \n",
            "\n",
            "             Volume  \n",
            "count  6.735000e+03  \n",
            "mean   1.396834e+08  \n",
            "std    1.387823e+08  \n",
            "min    9.744000e+06  \n",
            "25%    6.651000e+07  \n",
            "50%    1.033540e+08  \n",
            "75%    1.580921e+08  \n",
            "max    2.086584e+09  \n"
          ]
        }
      ]
    }
  ]
}